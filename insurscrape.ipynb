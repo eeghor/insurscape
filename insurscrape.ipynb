{
 "cells": [
  {
   "cell_type": "code",
   "execution_count": 98,
   "metadata": {},
   "outputs": [],
   "source": [
    "from selenium import webdriver\n",
    "from selenium.webdriver.common.desired_capabilities import DesiredCapabilities\n",
    "from selenium.webdriver.support.ui import WebDriverWait\n",
    "from selenium.webdriver.support import expected_conditions as EC\n",
    "from selenium.webdriver.common.by import By\n",
    "from selenium.webdriver.common.keys import Keys\n",
    "from selenium.webdriver.common.action_chains import ActionChains\n",
    "import requests"
   ]
  },
  {
   "cell_type": "code",
   "execution_count": 99,
   "metadata": {},
   "outputs": [],
   "source": [
    "main_url = 'https://www.thrifty.com.au'"
   ]
  },
  {
   "cell_type": "code",
   "execution_count": 100,
   "metadata": {},
   "outputs": [],
   "source": [
    "capabilities = DesiredCapabilities().CHROME\n",
    "options = webdriver.ChromeOptions()\n",
    "options.add_argument('--ignore-certificate-errors')\n",
    "options.add_argument('--ignore-ssl-errors')\n",
    "options.add_argument('--incognito')\n",
    "options.add_argument('--start-maximized')\n",
    "# options.add_argument('--headless')\n",
    "prefs = {\n",
    "    'profile.default_content_setting_values':\n",
    "    {\n",
    "        'notifications': 1,\n",
    "        'geolocation': 1\n",
    "    },\n",
    "\n",
    "    'profile.managed_default_content_settings':\n",
    "    {\n",
    "        'geolocation': 1\n",
    "    },\n",
    "}\n",
    "\n",
    "options.add_experimental_option('prefs', prefs)\n",
    "capabilities.update(options.to_capabilities())"
   ]
  },
  {
   "cell_type": "code",
   "execution_count": 101,
   "metadata": {},
   "outputs": [],
   "source": [
    "driver = webdriver.Chrome('webdriver/chromedriver', options=options)"
   ]
  },
  {
   "cell_type": "code",
   "execution_count": 102,
   "metadata": {},
   "outputs": [],
   "source": [
    "driver.get(main_url)"
   ]
  },
  {
   "cell_type": "code",
   "execution_count": 103,
   "metadata": {},
   "outputs": [],
   "source": [
    "element=driver.find_element_by_css_selector(\"input.form-control.ondemand-typeahead.tt-input[data-headernearbylocations]\")"
   ]
  },
  {
   "cell_type": "code",
   "execution_count": 81,
   "metadata": {},
   "outputs": [
    {
     "name": "stdout",
     "output_type": "stream",
     "text": [
      "\n"
     ]
    }
   ],
   "source": [
    "print(element.text)"
   ]
  },
  {
   "cell_type": "code",
   "execution_count": 104,
   "metadata": {},
   "outputs": [],
   "source": [
    "element.send_keys(\"Sydney City, NSW 2010\", Keys.ENTER)\n",
    "# webdriver.ActionChains(driver).send_keys(Keys.ESCAPE).perform()"
   ]
  },
  {
   "cell_type": "code",
   "execution_count": 106,
   "metadata": {},
   "outputs": [
    {
     "name": "stdout",
     "output_type": "stream",
     "text": [
      "\n",
      "\n",
      "\n",
      "\n",
      "\n",
      "\n",
      "\n"
     ]
    }
   ],
   "source": [
    "for w in driver.find_elements_by_css_selector(\"div.tt-menu[role='listbox']>div.tt-dataset[role='presentation']>p.tt-suggestion\"):\n",
    "    print(w.text)"
   ]
  },
  {
   "cell_type": "code",
   "execution_count": 107,
   "metadata": {},
   "outputs": [],
   "source": [
    "e2 = driver.find_element_by_css_selector(\"input.form-control[name='pickupdate']\")"
   ]
  },
  {
   "cell_type": "code",
   "execution_count": 108,
   "metadata": {},
   "outputs": [],
   "source": [
    "e2.click()"
   ]
  },
  {
   "cell_type": "code",
   "execution_count": 112,
   "metadata": {},
   "outputs": [],
   "source": [
    "av_days = driver.find_elements_by_css_selector(\"body > div.daterangepicker.dropdown-menu.ltr.single.opensright.show-calendar>div>div.calendar-table>table.table-condensed>tbody>tr>td.available\")"
   ]
  },
  {
   "cell_type": "code",
   "execution_count": 113,
   "metadata": {},
   "outputs": [],
   "source": [
    "for d in av_days:\n",
    "    if d.text.strip() == '21':\n",
    "        d.click()\n",
    "        break\n",
    "#     print(d.text)"
   ]
  },
  {
   "cell_type": "code",
   "execution_count": 114,
   "metadata": {},
   "outputs": [],
   "source": [
    "e3 = driver.find_element_by_css_selector(\"input.form-control[name='dropoffdate']\")\n",
    "e3.click()"
   ]
  },
  {
   "cell_type": "code",
   "execution_count": null,
   "metadata": {},
   "outputs": [],
   "source": [
    "driver.find_elements_by_css_selector(\"body > div:nth-child(37) > div.calendar.left.single > div.calendar-table > table > tbody > tr:nth-child(5) > td:nth-child(6)\")"
   ]
  },
  {
   "cell_type": "code",
   "execution_count": 116,
   "metadata": {},
   "outputs": [
    {
     "name": "stdout",
     "output_type": "stream",
     "text": [
      "DROP OFF DATE\n",
      "\n"
     ]
    }
   ],
   "source": [
    "for _ in driver.find_elements_by_css_selector(\"div.dropoffdate>label\"):\n",
    "    print(_.text)"
   ]
  },
  {
   "cell_type": "code",
   "execution_count": null,
   "metadata": {},
   "outputs": [],
   "source": []
  }
 ],
 "metadata": {
  "kernelspec": {
   "display_name": "Python 3",
   "language": "python",
   "name": "python3"
  },
  "language_info": {
   "codemirror_mode": {
    "name": "ipython",
    "version": 3
   },
   "file_extension": ".py",
   "mimetype": "text/x-python",
   "name": "python",
   "nbconvert_exporter": "python",
   "pygments_lexer": "ipython3",
   "version": "3.8.5"
  }
 },
 "nbformat": 4,
 "nbformat_minor": 4
}
