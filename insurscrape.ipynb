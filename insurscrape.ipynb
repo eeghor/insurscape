{
 "cells": [
  {
   "cell_type": "code",
   "execution_count": 37,
   "metadata": {},
   "outputs": [],
   "source": [
    "from selenium import webdriver\n",
    "from selenium.webdriver.common.desired_capabilities import DesiredCapabilities\n",
    "from selenium.webdriver.support.ui import WebDriverWait\n",
    "from selenium.webdriver.support import expected_conditions as EC\n",
    "from selenium.webdriver.common.by import By\n",
    "from selenium.webdriver.common.keys import Keys\n",
    "from selenium.webdriver.common.action_chains import ActionChains\n",
    "import time\n",
    "import requests"
   ]
  },
  {
   "cell_type": "code",
   "execution_count": 38,
   "metadata": {},
   "outputs": [],
   "source": [
    "main_url = 'https://www.thrifty.com.au'"
   ]
  },
  {
   "cell_type": "code",
   "execution_count": 39,
   "metadata": {},
   "outputs": [],
   "source": [
    "capabilities = DesiredCapabilities().CHROME\n",
    "options = webdriver.ChromeOptions()\n",
    "options.add_argument('--ignore-certificate-errors')\n",
    "options.add_argument('--ignore-ssl-errors')\n",
    "options.add_argument('--incognito')\n",
    "options.add_argument('--start-maximized')\n",
    "# options.add_argument('--headless')\n",
    "prefs = {\n",
    "    'profile.default_content_setting_values':\n",
    "    {\n",
    "        'notifications': 1,\n",
    "        'geolocation': 1\n",
    "    },\n",
    "\n",
    "    'profile.managed_default_content_settings':\n",
    "    {\n",
    "        'geolocation': 1\n",
    "    },\n",
    "}\n",
    "\n",
    "options.add_experimental_option('prefs', prefs)\n",
    "capabilities.update(options.to_capabilities())"
   ]
  },
  {
   "cell_type": "code",
   "execution_count": 40,
   "metadata": {},
   "outputs": [],
   "source": [
    "driver = webdriver.Chrome('webdriver/chromedriver', options=options)"
   ]
  },
  {
   "cell_type": "code",
   "execution_count": 41,
   "metadata": {},
   "outputs": [],
   "source": [
    "driver.get(main_url)"
   ]
  },
  {
   "cell_type": "code",
   "execution_count": 50,
   "metadata": {},
   "outputs": [],
   "source": [
    "def choose_location(str=\"Sydney\"):\n",
    "    \n",
    "    inp = driver.find_element_by_css_selector(\"input.form-control.ondemand-typeahead.tt-input[data-headernearbylocations]\")\n",
    "#     inp.send_keys(str, Keys.DELETE)\n",
    "    inp.clear()\n",
    "    inp.send_keys(str, Keys.ENTER)\n",
    "    \n",
    "    time.sleep(1)\n",
    "    \n",
    "    suggested_locations = []\n",
    "    \n",
    "    for w in driver.find_elements_by_css_selector(\"div.tt-menu[role='listbox']>div.tt-dataset[role='presentation']>p.tt-suggestion\"): \n",
    "        suggested_locations.append(w.text)\n",
    "    \n",
    "    webdriver.ActionChains(driver).send_keys(Keys.ESCAPE).perform()\n",
    "    \n",
    "    return suggested_locations"
   ]
  },
  {
   "cell_type": "code",
   "execution_count": 51,
   "metadata": {},
   "outputs": [
    {
     "name": "stdout",
     "output_type": "stream",
     "text": [
      "['Sydney City / Domain, Sydney, NSW 2011', 'Alexandria/Mascot, Sydney, NSW 2015', 'Bankstown, Sydney, NSW 2200', 'Parramatta, Sydney, NSW 2142', 'Sydney Airport, Sydney, NSW 2020', 'Sydney Airport, Sydney, NSW 2020', 'Newcastle / Williamtown Airport Commercials, NSW 2318']\n"
     ]
    }
   ],
   "source": [
    "print(choose_location())"
   ]
  },
  {
   "cell_type": "code",
   "execution_count": 55,
   "metadata": {},
   "outputs": [],
   "source": [
    "def choose_pickup_date(str):\n",
    "    \n",
    "    driver.find_element_by_css_selector(\"input.form-control[name='pickupdate']\").click()\n",
    "    mth = driver.find_element_by_css_selector('div.daterangepicker.dropdown-menu.show-calendar > div.calendar.left.single > div.calendar-table > table > thead > tr:nth-child(1) > th.month')\n",
    "    print(mth.text)\n",
    "    av_days = driver.find_elements_by_css_selector(\"body > div.daterangepicker.dropdown-menu.ltr.single.opensright.show-calendar>div>div.calendar-table>table.table-condensed>tbody>tr>td.available\")\n",
    "    for d in av_days:\n",
    "        print(d.text.strip())\n",
    "    "
   ]
  },
  {
   "cell_type": "code",
   "execution_count": 56,
   "metadata": {},
   "outputs": [
    {
     "name": "stdout",
     "output_type": "stream",
     "text": [
      "Nov 2020\n",
      "27\n",
      "28\n",
      "29\n",
      "30\n",
      "1\n",
      "2\n",
      "3\n",
      "4\n",
      "5\n",
      "\n",
      "\n",
      "\n",
      "\n",
      "\n",
      "\n",
      "\n",
      "\n",
      "\n",
      "\n",
      "\n",
      "\n",
      "\n",
      "\n",
      "\n",
      "\n",
      "\n",
      "\n",
      "\n",
      "\n",
      "\n",
      "\n",
      "\n",
      "\n",
      "\n",
      "\n",
      "\n",
      "\n",
      "\n",
      "\n",
      "\n",
      "\n",
      "\n",
      "\n",
      "\n",
      "\n",
      "\n",
      "\n",
      "\n",
      "\n",
      "\n",
      "\n"
     ]
    }
   ],
   "source": [
    "choose_pickup_date(str='somthing')"
   ]
  },
  {
   "cell_type": "code",
   "execution_count": 12,
   "metadata": {},
   "outputs": [],
   "source": [
    "e2.click()"
   ]
  },
  {
   "cell_type": "code",
   "execution_count": 13,
   "metadata": {},
   "outputs": [],
   "source": [
    "av_days = driver.find_elements_by_css_selector(\"body > div.daterangepicker.dropdown-menu.ltr.single.opensright.show-calendar>div>div.calendar-table>table.table-condensed>tbody>tr>td.available\")"
   ]
  },
  {
   "cell_type": "code",
   "execution_count": 14,
   "metadata": {},
   "outputs": [],
   "source": [
    "for d in av_days:\n",
    "    if d.text.strip() == '24':\n",
    "        d.click()\n",
    "        break\n",
    "#     print(d.text)"
   ]
  },
  {
   "cell_type": "code",
   "execution_count": 15,
   "metadata": {},
   "outputs": [],
   "source": [
    "e3 = driver.find_element_by_css_selector(\"input.form-control[name='dropoffdate']\")\n",
    "e3.click()"
   ]
  },
  {
   "cell_type": "code",
   "execution_count": 16,
   "metadata": {},
   "outputs": [],
   "source": [
    "av_days2 = driver.find_elements_by_css_selector(\"body > div.daterangepicker.dropdown-menu.ltr.single.opensright.show-calendar>div>div.calendar-table>table.table-condensed>tbody>tr>td.available\")"
   ]
  },
  {
   "cell_type": "code",
   "execution_count": 17,
   "metadata": {},
   "outputs": [],
   "source": [
    "for d in av_days2:\n",
    "    if d.text.strip() == '27':\n",
    "        d.click()\n",
    "        break"
   ]
  },
  {
   "cell_type": "code",
   "execution_count": 18,
   "metadata": {},
   "outputs": [
    {
     "name": "stdout",
     "output_type": "stream",
     "text": [
      "Closed\n"
     ]
    }
   ],
   "source": [
    "if driver.find_element_by_css_selector(\"label.input-field-container>select.form-control.pickuptime\").text == 'Closed':\n",
    "    print('Closed')"
   ]
  },
  {
   "cell_type": "code",
   "execution_count": 20,
   "metadata": {},
   "outputs": [],
   "source": [
    "if driver.find_element_by_css_selector(\"label.input-field-container>select.form-control.dropofftime\").text == 'Closed':\n",
    "    print('Closed')"
   ]
  },
  {
   "cell_type": "code",
   "execution_count": null,
   "metadata": {},
   "outputs": [],
   "source": []
  }
 ],
 "metadata": {
  "kernelspec": {
   "display_name": "Python 3",
   "language": "python",
   "name": "python3"
  },
  "language_info": {
   "codemirror_mode": {
    "name": "ipython",
    "version": 3
   },
   "file_extension": ".py",
   "mimetype": "text/x-python",
   "name": "python",
   "nbconvert_exporter": "python",
   "pygments_lexer": "ipython3",
   "version": "3.8.5"
  }
 },
 "nbformat": 4,
 "nbformat_minor": 4
}
